{
 "cells": [
  {
   "cell_type": "code",
   "execution_count": 1,
   "metadata": {},
   "outputs": [],
   "source": [
    "from transformers import AutoModel, AutoTokenizer\n",
    "from string import punctuation\n",
    "import torch\n",
    "import pandas as pd\n",
    "import pickle\n",
    "import json\n",
    "import spacy\n",
    "import gc"
   ]
  },
  {
   "cell_type": "code",
   "execution_count": 5,
   "metadata": {},
   "outputs": [
    {
     "data": {
      "application/vnd.jupyter.widget-view+json": {
       "model_id": "85d0f54aff7d40aeaaaa3426c8bfbd25",
       "version_major": 2,
       "version_minor": 0
      },
      "text/plain": [
       "tokenizer_config.json:   0%|          | 0.00/1.27k [00:00<?, ?B/s]"
      ]
     },
     "metadata": {},
     "output_type": "display_data"
    },
    {
     "data": {
      "application/vnd.jupyter.widget-view+json": {
       "model_id": "3fb2fea7a233480aab6f87157fb6b62c",
       "version_major": 2,
       "version_minor": 0
      },
      "text/plain": [
       "tokenizer.json:   0%|          | 0.00/3.71M [00:00<?, ?B/s]"
      ]
     },
     "metadata": {},
     "output_type": "display_data"
    },
    {
     "data": {
      "application/vnd.jupyter.widget-view+json": {
       "model_id": "e31b69982bfb4c86ac0bcf2885dd3a48",
       "version_major": 2,
       "version_minor": 0
      },
      "text/plain": [
       "special_tokens_map.json:   0%|          | 0.00/125 [00:00<?, ?B/s]"
      ]
     },
     "metadata": {},
     "output_type": "display_data"
    },
    {
     "data": {
      "application/vnd.jupyter.widget-view+json": {
       "model_id": "f47898ba9c2d4cf39abf1168d00b7885",
       "version_major": 2,
       "version_minor": 0
      },
      "text/plain": [
       "config.json:   0%|          | 0.00/863 [00:00<?, ?B/s]"
      ]
     },
     "metadata": {},
     "output_type": "display_data"
    },
    {
     "data": {
      "application/vnd.jupyter.widget-view+json": {
       "model_id": "dde9b7f860a44bb79ee70cfcf7ca7a21",
       "version_major": 2,
       "version_minor": 0
      },
      "text/plain": [
       "model.safetensors:   0%|          | 0.00/1.71G [00:00<?, ?B/s]"
      ]
     },
     "metadata": {},
     "output_type": "display_data"
    }
   ],
   "source": [
    "tokenizer = AutoTokenizer.from_pretrained(\"ai-forever/sbert_large_nlu_ru\")\n",
    "vectorizer = AutoModel.from_pretrained(\"ai-forever/sbert_large_nlu_ru\")"
   ]
  },
  {
   "cell_type": "code",
   "execution_count": 7,
   "metadata": {},
   "outputs": [
    {
     "name": "stdout",
     "output_type": "stream",
     "text": [
      "(288,)\n"
     ]
    },
    {
     "data": {
      "text/plain": [
       "ICON_NAME\n",
       "login.svg                      вход, авторизация, начало работы\n",
       "arrow-up-square.svg              рост, движение вверх, прогресс\n",
       "arrow-left-tail.svg                    возврат назад, шаг назад\n",
       "arrows-exchange-2.svg       обмен, взаимодействие, переключение\n",
       "arrow-back-up.svg        откат, возврат к предыдущему состоянию\n",
       "Name: ICON_DESCRIPTION, dtype: object"
      ]
     },
     "execution_count": 7,
     "metadata": {},
     "output_type": "execute_result"
    }
   ],
   "source": [
    "data = pd.read_excel('../datasets/Датасет иконок.xlsx',).iloc[1:, 1:]\n",
    "data.columns = ['ICON_NAME', 'ICON_DESCRIPTION']\n",
    "data.index = data['ICON_NAME']\n",
    "data = data['ICON_DESCRIPTION'].map(lambda a: a.lower())\n",
    "print(data.shape)\n",
    "data.head()"
   ]
  },
  {
   "cell_type": "code",
   "execution_count": 8,
   "metadata": {},
   "outputs": [],
   "source": [
    "def mean_pooling(model_output, attention_mask):\n",
    "    token_embeddings = model_output[0] #First element of model_output contains all token embeddings\n",
    "    input_mask_expanded = attention_mask.unsqueeze(-1).expand(token_embeddings.size()).float()\n",
    "    sum_embeddings = torch.sum(token_embeddings * input_mask_expanded, 1)\n",
    "    sum_mask = torch.clamp(input_mask_expanded.sum(1), min=1e-9)\n",
    "    return sum_embeddings / sum_mask"
   ]
  },
  {
   "cell_type": "code",
   "execution_count": 9,
   "metadata": {},
   "outputs": [],
   "source": [
    "encoded_input = tokenizer(data.to_list(), padding=True, return_tensors='pt')\n",
    "with torch.no_grad():\n",
    "    model_output = vectorizer(**encoded_input)\n",
    "sentence_embeddings = mean_pooling(model_output, encoded_input['attention_mask'])"
   ]
  },
  {
   "cell_type": "code",
   "execution_count": 7,
   "metadata": {},
   "outputs": [],
   "source": [
    "torch.save(sentence_embeddings, '../datasets/embedded_icons.pt')"
   ]
  },
  {
   "cell_type": "code",
   "execution_count": 14,
   "metadata": {},
   "outputs": [
    {
     "data": {
      "text/plain": [
       "{0: 'login.svg',\n",
       " 1: 'arrow-up-square.svg',\n",
       " 2: 'arrow-left-tail.svg',\n",
       " 3: 'arrows-exchange-2.svg',\n",
       " 4: 'arrow-back-up.svg',\n",
       " 5: 'corner-left-up.svg',\n",
       " 6: 'circle-arrow-left.svg',\n",
       " 7: 'circle-chevron-up.svg',\n",
       " 8: 'square-rounded-chevrons-up.svg',\n",
       " 9: 'caret-down.svg',\n",
       " 10: 'transition-right.svg',\n",
       " 11: 's-turn-down.svg',\n",
       " 12: 'corner-up-left-double.svg',\n",
       " 13: 'arrows-move-horizontal.svg',\n",
       " 14: 'arrow-up-tail.svg',\n",
       " 15: 'arrows-diff.svg',\n",
       " 16: 'trending-down.svg',\n",
       " 17: 'arrow-big-right-line.svg',\n",
       " 18: 'square-chevrons-up.svg',\n",
       " 19: 'chevron-right.svg',\n",
       " 20: 'arrow-down-right.svg',\n",
       " 21: 'switch.svg',\n",
       " 22: 'circle-arrow-down-right.svg',\n",
       " 23: 'chevrons-down-right.svg',\n",
       " 24: 'circle-arrow-down-left.svg',\n",
       " 25: 'arrow-left-rhombus.svg',\n",
       " 26: 'arrow-right-tail.svg',\n",
       " 27: 'arrow-loop-left.svg',\n",
       " 28: 'square-chevron-left.svg',\n",
       " 29: 'square-rounded-arrow-down.svg',\n",
       " 30: 'corner-left-down.svg',\n",
       " 31: 'corner-down-right-double.svg',\n",
       " 32: 'arrow-bar-down.svg',\n",
       " 33: 'arrows-down-up.svg',\n",
       " 34: 'caret-right.svg',\n",
       " 35: 'arrows-right.svg',\n",
       " 36: 'arrow-right.svg',\n",
       " 37: 'refresh-off.svg',\n",
       " 38: 'step-out.svg',\n",
       " 39: 'arrows-up-right.svg',\n",
       " 40: 'arrow-roundabout-right.svg',\n",
       " 41: 'arrows-up-left.svg',\n",
       " 42: 'arrow-bar-to-left.svg',\n",
       " 43: 'selector.svg',\n",
       " 44: 'circle-caret-up.svg',\n",
       " 45: 'arrow-big-down.svg',\n",
       " 46: 'arrow-forward-up-double.svg',\n",
       " 47: 'corner-down-left-double.svg',\n",
       " 48: 'arrow-merge-both.svg',\n",
       " 49: 'arrow-autofit-width.svg',\n",
       " 50: 'arrows-horizontal.svg',\n",
       " 51: 'arrow-wave-left-up.svg',\n",
       " 52: 'switch-3.svg',\n",
       " 53: 'arrows-transfer-up.svg',\n",
       " 54: 'arrow-down-circle.svg',\n",
       " 55: 'corner-right-up-double.svg',\n",
       " 56: 'arrow-big-down-lines.svg',\n",
       " 57: 'square-arrow-down.svg',\n",
       " 58: 'arrow-badge-down.svg',\n",
       " 59: 'trending-up-2.svg',\n",
       " 60: 'refresh-dot.svg',\n",
       " 61: 'fold-up.svg',\n",
       " 62: 'arrow-down.svg',\n",
       " 63: 'chevrons-right.svg',\n",
       " 64: 'arrow-sharp-turn-right.svg',\n",
       " 65: 'arrows-diagonal-minimize-2.svg',\n",
       " 66: 'arrow-bar-to-down.svg',\n",
       " 67: 'arrow-bear-left.svg',\n",
       " 68: 'chevron-up-right.svg',\n",
       " 69: 'arrow-merge.svg',\n",
       " 70: 'arrow-bear-right.svg',\n",
       " 71: 'arrow-merge-left.svg',\n",
       " 72: 'arrows-vertical.svg',\n",
       " 73: 'switch-horizontal.svg',\n",
       " 74: 'arrow-up-right-circle.svg',\n",
       " 75: 'chevrons-up-right.svg',\n",
       " 76: 'arrow-up-right.svg',\n",
       " 77: 'arrows-left-down.svg',\n",
       " 78: 'arrow-rotary-last-right.svg',\n",
       " 79: 'arrow-ramp-left-3.svg',\n",
       " 80: 'caret-left.svg',\n",
       " 81: 'corner-right-down-double.svg',\n",
       " 82: 's-turn-up.svg',\n",
       " 83: 'arrow-ramp-left.svg',\n",
       " 84: 'circle-chevrons-up.svg',\n",
       " 85: 'arrow-big-right.svg',\n",
       " 86: 'square-rounded-chevron-down.svg',\n",
       " 87: 'arrow-autofit-left.svg',\n",
       " 88: 'arrow-down-rhombus.svg',\n",
       " 89: 'arrow-iteration.svg',\n",
       " 90: 'arrow-narrow-right.svg',\n",
       " 91: 'corner-right-up.svg',\n",
       " 92: 'arrow-rotary-first-left.svg',\n",
       " 93: 'arrows-left.svg',\n",
       " 94: 'square-rounded-chevron-left.svg',\n",
       " 95: 'arrows-diagonal-2.svg',\n",
       " 96: 'rotate-360.svg',\n",
       " 97: 'arrow-down-right-circle.svg',\n",
       " 98: 'chevron-down-right.svg',\n",
       " 99: 'arrow-left-bar.svg',\n",
       " 100: 'arrow-wave-right-down.svg',\n",
       " 101: 'arrow-rotary-left.svg',\n",
       " 102: 'step-into.svg',\n",
       " 103: 'arrow-autofit-content.svg',\n",
       " 104: 'arrow-big-right-lines.svg',\n",
       " 105: 'arrow-right-circle.svg',\n",
       " 106: 'arrow-down-square.svg',\n",
       " 107: 'upload.svg',\n",
       " 108: 'arrow-down-left.svg',\n",
       " 109: 'arrows-double-sw-ne.svg',\n",
       " 110: 'arrow-rotary-first-right.svg',\n",
       " 111: 'square-chevron-right.svg',\n",
       " 112: 'arrow-move-left.svg',\n",
       " 113: 'arrows-diagonal.svg',\n",
       " 114: 'share-2.svg',\n",
       " 115: 'share-3.svg',\n",
       " 116: 'trending-up-3.svg',\n",
       " 117: 'arrow-bar-to-right.svg',\n",
       " 118: 'arrow-badge-up.svg',\n",
       " 119: 'square-rounded-chevrons-right.svg',\n",
       " 120: 'square-rounded-chevron-right.svg',\n",
       " 121: 'trending-down-2.svg',\n",
       " 122: 'arrow-left-square.svg',\n",
       " 123: 'rotate-clockwise.svg',\n",
       " 124: 'caret-up.svg',\n",
       " 125: 'arrow-down-tail.svg',\n",
       " 126: 'arrow-narrow-up.svg',\n",
       " 127: 'arrows-join-2.svg',\n",
       " 128: 'arrow-right-rhombus.svg',\n",
       " 129: 'transition-bottom.svg',\n",
       " 130: 'square-chevrons-right.svg',\n",
       " 131: 'chevrons-down.svg',\n",
       " 132: 'arrow-bar-up.svg',\n",
       " 133: 'arrow-autofit-down.svg',\n",
       " 134: 'square-rounded-arrow-left.svg',\n",
       " 135: 'arrow-narrow-down.svg',\n",
       " 136: 'circle-arrow-down.svg',\n",
       " 137: 'arrow-up-left.svg',\n",
       " 138: 'square-chevron-up.svg',\n",
       " 139: 'arrow-autofit-up.svg',\n",
       " 140: 'arrow-up-circle.svg',\n",
       " 141: 'trending-down-3.svg',\n",
       " 142: 'circle-caret-down.svg',\n",
       " 143: 'circle-arrow-up-left.svg',\n",
       " 144: 'download.svg',\n",
       " 145: 'rotate.svg',\n",
       " 146: 'rotate-rectangle.svg',\n",
       " 147: 'arrow-sharp-turn-left.svg',\n",
       " 148: 'arrows-right-left.svg',\n",
       " 149: 'corner-up-right-double.svg',\n",
       " 150: 'arrow-forward-up.svg',\n",
       " 151: 'arrows-up.svg',\n",
       " 152: 'transition-top.svg',\n",
       " 153: 'fold-down.svg',\n",
       " 154: 'arrow-big-up-line.svg',\n",
       " 155: 'arrow-left-circle.svg',\n",
       " 156: 'arrow-zig-zag.svg',\n",
       " 157: 'square-rounded-chevron-up.svg',\n",
       " 158: 'arrow-left-right.svg',\n",
       " 159: 'chevrons-up-left.svg',\n",
       " 160: 'arrow-autofit-right.svg',\n",
       " 161: 'arrow-ramp-right-2.svg',\n",
       " 162: 'chevron-left.svg',\n",
       " 163: 'switch-2.svg',\n",
       " 164: 'arrow-move-up.svg',\n",
       " 165: 'arrow-up.svg',\n",
       " 166: 'circle-arrow-right.svg',\n",
       " 167: 'arrows-join.svg',\n",
       " 168: 'refresh.svg',\n",
       " 169: 'arrows-split.svg',\n",
       " 170: 'arrow-loop-right.svg',\n",
       " 171: 'chevron-down-left.svg',\n",
       " 172: 'arrows-double-se-nw.svg',\n",
       " 173: 'arrows-move.svg',\n",
       " 174: 'circle-arrow-up.svg',\n",
       " 175: 'circle-chevrons-right.svg',\n",
       " 176: 'arrow-up-rhombus.svg',\n",
       " 177: 'arrow-big-up.svg',\n",
       " 178: 'circle-arrow-up-right.svg',\n",
       " 179: 'trending-up.svg',\n",
       " 180: 'arrow-bear-left-2.svg',\n",
       " 181: 'arrow-roundabout-left.svg',\n",
       " 182: 'square-arrow-right.svg',\n",
       " 183: 'arrow-merge-right.svg',\n",
       " 184: 'arrow-back.svg',\n",
       " 185: 'arrow-bar-left.svg',\n",
       " 186: 's-turn-right.svg',\n",
       " 187: 'arrow-rotary-last-left.svg',\n",
       " 188: 'arrow-big-left-lines.svg',\n",
       " 189: 'transition-left.svg',\n",
       " 190: 'arrows-double-nw-se.svg',\n",
       " 191: 'square-arrow-up.svg',\n",
       " 192: 'arrow-rotary-right.svg',\n",
       " 193: 'arrows-left-right.svg',\n",
       " 194: 'arrows-up-down.svg',\n",
       " 195: 'reload.svg',\n",
       " 196: 'arrow-ramp-right-3.svg',\n",
       " 197: 'refresh-alert.svg',\n",
       " 198: 'arrow-autofit-height.svg',\n",
       " 199: 'arrow-loop-right-2.svg',\n",
       " 200: 'arrow-elbow-right.svg',\n",
       " 201: 'fold.svg',\n",
       " 202: 'square-arrow-left.svg',\n",
       " 203: 'circle-caret-right.svg',\n",
       " 204: 'arrows-diagonal-minimize.svg',\n",
       " 205: 'circle-chevron-right.svg',\n",
       " 206: 'arrow-bear-right-2.svg',\n",
       " 207: 'arrow-rotary-straight.svg',\n",
       " 208: 'arrow-big-left.svg',\n",
       " 209: 'square-rounded-chevrons-down.svg',\n",
       " 210: 'arrows-split-2.svg',\n",
       " 211: 'rotate-clockwise-2.svg',\n",
       " 212: 'square-rounded-chevrons-left.svg',\n",
       " 213: 'arrows-double-ne-sw.svg',\n",
       " 214: 'arrow-up-left-circle.svg',\n",
       " 215: 'arrow-ramp-right.svg',\n",
       " 216: 'circle-chevrons-left.svg',\n",
       " 217: 'arrow-move-down.svg',\n",
       " 218: 'corner-right-down.svg',\n",
       " 219: 'arrow-big-down-line.svg',\n",
       " 220: 'chevron-up-left.svg',\n",
       " 221: 'arrow-move-right.svg',\n",
       " 222: 'arrows-shuffle-2.svg',\n",
       " 223: 'arrow-curve-left.svg',\n",
       " 224: 'chevron-up.svg',\n",
       " 225: 'logout.svg',\n",
       " 226: 'arrow-ramp-left-2.svg',\n",
       " 227: 'corner-left-down-double.svg',\n",
       " 228: 'arrows-transfer-down.svg',\n",
       " 229: 'arrows-random.svg',\n",
       " 230: 'rotate-dot.svg',\n",
       " 231: 'arrows-down.svg',\n",
       " 232: 'arrow-loop-left-2.svg',\n",
       " 233: 'corner-left-up-double.svg',\n",
       " 234: 'arrows-maximize.svg',\n",
       " 235: 'arrow-forward.svg',\n",
       " 236: 'corner-up-right.svg',\n",
       " 237: 'arrows-right-down.svg',\n",
       " 238: 'arrows-sort.svg',\n",
       " 239: 'chevrons-up.svg',\n",
       " 240: 'arrow-down-bar.svg',\n",
       " 241: 'rotate-2.svg',\n",
       " 242: 'arrow-wave-left-down.svg',\n",
       " 243: 'arrows-shuffle.svg',\n",
       " 244: 'square-rounded-arrow-right.svg',\n",
       " 245: 'arrow-left.svg',\n",
       " 246: 'arrow-bounce.svg',\n",
       " 247: 'chevrons-left.svg',\n",
       " 248: 'axis-y.svg',\n",
       " 249: 'chevrons-down-left.svg',\n",
       " 250: 'arrows-cross.svg',\n",
       " 251: 's-turn-left.svg',\n",
       " 252: 'square-chevrons-down.svg',\n",
       " 253: 'arrow-wave-right-up.svg',\n",
       " 254: 'select.svg',\n",
       " 255: 'arrow-badge-left.svg',\n",
       " 256: 'corner-up-left.svg',\n",
       " 257: 'corner-down-right.svg',\n",
       " 258: 'switch-vertical.svg',\n",
       " 259: 'circle-chevron-down.svg',\n",
       " 260: 'arrows-exchange.svg',\n",
       " 261: 'arrow-elbow-left.svg',\n",
       " 262: 'arrow-back-up-double.svg',\n",
       " 263: 'arrow-bar-to-up.svg',\n",
       " 264: 'square-rounded-arrow-up.svg',\n",
       " 265: 'arrow-big-up-lines.svg',\n",
       " 266: 'arrows-move-vertical.svg',\n",
       " 267: 'arrow-big-left-line.svg',\n",
       " 268: 'arrow-bar-right.svg',\n",
       " 269: 'chevron-down.svg',\n",
       " 270: 'square-chevron-down.svg',\n",
       " 271: 'arrow-right-bar.svg',\n",
       " 272: 'arrow-right-square.svg',\n",
       " 273: 'circle-chevron-left.svg',\n",
       " 274: 'square-chevrons-left.svg',\n",
       " 275: 'arrow-narrow-left.svg',\n",
       " 276: 'arrow-guide.svg',\n",
       " 277: 'arrows-minimize.svg',\n",
       " 278: 'axis-x.svg',\n",
       " 279: 'arrow-badge-right.svg',\n",
       " 280: 'arrow-curve-right.svg',\n",
       " 281: 'arrow-fork.svg',\n",
       " 282: 'arrow-down-left-circle.svg',\n",
       " 283: 'arrow-up-bar.svg',\n",
       " 284: 'corner-down-left.svg',\n",
       " 285: 'circle-caret-left.svg',\n",
       " 286: 'circle-chevrons-down.svg',\n",
       " 287: 'download-off.svg'}"
      ]
     },
     "execution_count": 14,
     "metadata": {},
     "output_type": "execute_result"
    }
   ],
   "source": [
    "indexated_icons"
   ]
  },
  {
   "cell_type": "code",
   "execution_count": 13,
   "metadata": {},
   "outputs": [],
   "source": [
    "indexated_icons = dict(enumerate(data.index))\n",
    "with open('../datasets/indexated_icons.json', 'w') as f:\n",
    "    json.dump(indexated_icons, f)"
   ]
  },
  {
   "cell_type": "markdown",
   "metadata": {},
   "source": [
    "# Test on real data"
   ]
  },
  {
   "cell_type": "code",
   "execution_count": 53,
   "metadata": {},
   "outputs": [],
   "source": [
    "text_example_1 = \"Москвичи, зарегистрировавшиеся до 8 сентября на розыгрыш дополнительных призов, \"+\\\n",
    "    \"смогут претендовать на 15 тысяч баллов в одной из категорий: «Путешествия и культура», \"+\\\n",
    "    \"«Техника для дома» или «Спорт».\"\n",
    "\n",
    "text_example_2 = \"В электронном \"+\\\n",
    "    \"голосовании на выборах депутатов Московской городской Думы, муниципальных депутатов ТиНАО и района \"+\\\n",
    "    \"Куркино приняли участие уже 450 тысяч человек. Отдать свой голос можно до 20:00 8 сентября. \"+\\\n",
    "    \"В настоящее время система работает штатно, никаких сбоев или задержек в ее работе не зафиксировано.\"\n",
    "\n",
    "text_exaple_3 = \"Специалисты отреставрировали кирпичную кладку, воссоздали \"+\\\n",
    "    \"декоративные элементы, привели в порядок мерлоны (зубцы), карнизы, своды и кровлю из \"+\\\n",
    "    \"керамического лемеха. В нише над проездной аркой установили художественное панно. Сейчас работы \"+\\\n",
    "    \"завершены, и горожане могут видеть преобразившийся памятник архитектуры. Список победителей и \"+\\\n",
    "    \"информацию о том, как потратить городские баллы, можно найти на сайте «Миллион призов».\""
   ]
  },
  {
   "cell_type": "code",
   "execution_count": 1,
   "metadata": {},
   "outputs": [],
   "source": [
    "import torch"
   ]
  },
  {
   "cell_type": "code",
   "execution_count": 17,
   "metadata": {},
   "outputs": [
    {
     "name": "stderr",
     "output_type": "stream",
     "text": [
      "/tmp/ipykernel_783529/962715775.py:1: FutureWarning: You are using `torch.load` with `weights_only=False` (the current default value), which uses the default pickle module implicitly. It is possible to construct malicious pickle data which will execute arbitrary code during unpickling (See https://github.com/pytorch/pytorch/blob/main/SECURITY.md#untrusted-models for more details). In a future release, the default value for `weights_only` will be flipped to `True`. This limits the functions that could be executed during unpickling. Arbitrary objects will no longer be allowed to be loaded via this mode unless they are explicitly allowlisted by the user via `torch.serialization.add_safe_globals`. We recommend you start setting `weights_only=True` for any use case where you don't have full control of the loaded file. Please open an issue on GitHub for any issues related to this experimental feature.\n",
      "  icons_embeddings = torch.load('../datasets/embedded_icons.pt')\n"
     ]
    }
   ],
   "source": [
    "icons_embeddings = torch.load('../datasets/embedded_icons.pt')"
   ]
  },
  {
   "cell_type": "code",
   "execution_count": 62,
   "metadata": {},
   "outputs": [],
   "source": [
    "n = -1"
   ]
  },
  {
   "cell_type": "code",
   "execution_count": 63,
   "metadata": {},
   "outputs": [
    {
     "name": "stdout",
     "output_type": "stream",
     "text": [
      "torch.Size([288, 1024]) torch.Size([288, 1024])\n",
      "tensor(0.6315)\n",
      "share-3.svg\n"
     ]
    }
   ],
   "source": [
    "encoded_input = tokenizer([text_example_1], padding=True, return_tensors='pt')\n",
    "with torch.no_grad():\n",
    "    model_output = vectorizer(**encoded_input)\n",
    "sentence_embeddings = mean_pooling(model_output, encoded_input['attention_mask']).repeat(icons_embeddings.shape[0], 1)\n",
    "print(sentence_embeddings.shape, icons_embeddings.shape)\n",
    "res = torch.nn.functional.cosine_similarity(sentence_embeddings, icons_embeddings)\n",
    "print(res[res.argsort()[n]])\n",
    "print(indexated_icons[res.argsort()[n].item()])"
   ]
  },
  {
   "cell_type": "code",
   "execution_count": 64,
   "metadata": {},
   "outputs": [
    {
     "name": "stdout",
     "output_type": "stream",
     "text": [
      "В электронном голосовании на выборах депутатов Московской городской Думы, муниципальных депутатов ТиНАО и района Куркино приняли участие уже 450 тысяч человек. Отдать свой голос можно до 20:00 8 сентября. В настоящее время система работает штатно, никаких сбоев или задержек в ее работе не зафиксировано.\n",
      "torch.Size([288, 1024]) torch.Size([288, 1024])\n",
      "tensor(0.5243)\n",
      "share-3.svg\n"
     ]
    }
   ],
   "source": [
    "print(text_example_2)\n",
    "encoded_input = tokenizer([text_example_2], padding=True, return_tensors='pt')\n",
    "with torch.no_grad():\n",
    "    model_output = vectorizer(**encoded_input)\n",
    "sentence_embeddings = mean_pooling(model_output, encoded_input['attention_mask']).repeat(icons_embeddings.shape[0], 1)\n",
    "print(sentence_embeddings.shape, icons_embeddings.shape)\n",
    "res = torch.nn.functional.cosine_similarity(sentence_embeddings, icons_embeddings)\n",
    "print(res[res.argsort()[n]])\n",
    "print(indexated_icons[res.argsort()[n].item()])"
   ]
  },
  {
   "cell_type": "code",
   "execution_count": 65,
   "metadata": {},
   "outputs": [
    {
     "name": "stdout",
     "output_type": "stream",
     "text": [
      "Специалисты отреставрировали кирпичную кладку, воссоздали декоративные элементы, привели в порядок мерлоны (зубцы), карнизы, своды и кровлю из керамического лемеха. В нише над проездной аркой установили художественное панно. Сейчас работы завершены, и горожане могут видеть преобразившийся памятник архитектуры. Список победителей и информацию о том, как потратить городские баллы, можно найти на сайте «Миллион призов».\n",
      "torch.Size([288, 1024]) torch.Size([288, 1024])\n",
      "tensor(0.4857)\n",
      "arrow-big-up-line.svg\n"
     ]
    }
   ],
   "source": [
    "print(text_exaple_3)\n",
    "encoded_input = tokenizer([text_exaple_3], padding=True, return_tensors='pt')\n",
    "with torch.no_grad():\n",
    "    model_output = vectorizer(**encoded_input)\n",
    "sentence_embeddings = mean_pooling(model_output, encoded_input['attention_mask']).repeat(icons_embeddings.shape[0], 1)\n",
    "print(sentence_embeddings.shape, icons_embeddings.shape)\n",
    "res = torch.nn.functional.cosine_similarity(sentence_embeddings, icons_embeddings)\n",
    "print(res[res.argsort()[n]])\n",
    "print(indexated_icons[res.argsort()[n].item()])"
   ]
  }
 ],
 "metadata": {
  "kernelspec": {
   "display_name": "venv",
   "language": "python",
   "name": "python3"
  },
  "language_info": {
   "codemirror_mode": {
    "name": "ipython",
    "version": 3
   },
   "file_extension": ".py",
   "mimetype": "text/x-python",
   "name": "python",
   "nbconvert_exporter": "python",
   "pygments_lexer": "ipython3",
   "version": "3.12.3"
  }
 },
 "nbformat": 4,
 "nbformat_minor": 2
}
