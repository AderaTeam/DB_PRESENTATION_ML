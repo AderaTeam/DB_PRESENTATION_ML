{
 "cells": [
  {
   "cell_type": "code",
   "execution_count": 1,
   "metadata": {},
   "outputs": [],
   "source": [
    "import spacy\n",
    "from transformers import AutoTokenizer, AutoModelForTokenClassification\n",
    "from transformers import pipeline\n",
    "import torch\n",
    "NLP_LIGHTFULL_MODEL = spacy.load(\"ru_core_news_lg\")\n"
   ]
  },
  {
   "cell_type": "code",
   "execution_count": 20,
   "metadata": {},
   "outputs": [],
   "source": [
    "text_example_1 = \"Москвичи, зарегистрировавшиеся до 8 сентября на розыгрыш дополнительных призов, \"+\\\n",
    "    \"смогут претендовать на 15 тысяч баллов в одной из категорий: «Путешествия и культура», \"+\\\n",
    "    \"«Техника для дома» или «Спорт».  Специалисты отреставрировали кирпичную кладку, воссоздали \"+\\\n",
    "    \"декоративные элементы, привели в порядок мерлоны (зубцы), карнизы, своды и кровлю из \"+\\\n",
    "    \"керамического лемеха. В нише над проездной аркой установили художественное панно. Сейчас работы \"+\\\n",
    "    \"завершены, и горожане могут видеть преобразившийся памятник архитектуры. Список победителей и \"+\\\n",
    "    \"информацию о том, как потратить городские баллы, можно найти на сайте «Миллион призов». В электронном \"+\\\n",
    "    \"голосовании на выборах депутатов Московской городской Думы, муниципальных депутатов ТиНАО и района \"+\\\n",
    "    \"Куркино приняли участие уже 450 тысяч человек. Отдать свой голос можно до 20:00 8 сентября. \"+\\\n",
    "    \"В настоящее время система работает штатно, никаких сбоев или задержек в ее работе не зафиксировано.\""
   ]
  },
  {
   "cell_type": "code",
   "execution_count": 163,
   "metadata": {},
   "outputs": [
    {
     "data": {
      "text/plain": [
       "'Москвичи, зарегистрировавшиеся до 8 сентября на розыгрыш дополнительных призов, смогут претендовать на 15 тысяч баллов в одной из категорий: «Путешествия и культура», «Техника для дома» или «Спорт».  Специалисты отреставрировали кирпичную кладку, воссоздали декоративные элементы, привели в порядок мерлоны (зубцы), карнизы, своды и кровлю из керамического лемеха. В нише над проездной аркой установили художественное панно. Сейчас работы завершены, и горожане могут видеть преобразившийся памятник архитектуры. Список победителей и информацию о том, как потратить городские баллы, можно найти на сайте «Миллион призов».В электронном голосовании на выборах депутатов Московской городской Думы, муниципальных депутатов ТиНАО и района Куркино приняли участие уже 450 тысяч человек. Отдать свой голос можно до 20:00 8 сентября. В настоящее время система работает штатно, никаких сбоев или задержек в ее работе не зафиксировано.'"
      ]
     },
     "execution_count": 163,
     "metadata": {},
     "output_type": "execute_result"
    }
   ],
   "source": [
    "text_example_1"
   ]
  },
  {
   "cell_type": "code",
   "execution_count": 177,
   "metadata": {},
   "outputs": [],
   "source": [
    "import string"
   ]
  },
  {
   "cell_type": "code",
   "execution_count": 182,
   "metadata": {},
   "outputs": [
    {
     "data": {
      "text/plain": [
       "'информацию о том как потратить городские баллы можно найти на сайте Миллион призовВ электронном '"
      ]
     },
     "execution_count": 182,
     "metadata": {},
     "output_type": "execute_result"
    }
   ],
   "source": [
    "\"информацию о том, как потратить городские баллы, можно найти на сайте «Миллион призов».В электронном \".translate(str.maketrans('', '', string.punctuation + '«»'))"
   ]
  },
  {
   "cell_type": "code",
   "execution_count": 30,
   "metadata": {},
   "outputs": [],
   "source": [
    "import pandas as pd"
   ]
  },
  {
   "cell_type": "code",
   "execution_count": 124,
   "metadata": {},
   "outputs": [],
   "source": [
    "def get_numeric_data(df: pd.DataFrame):\n",
    "    k = None\n",
    "    t = []\n",
    "    d = df.copy()\n",
    "    for i in range(d.shape[0]):\n",
    "        if k == None:\n",
    "            if d.iloc[i, 1] == \"nummod\":\n",
    "                k = i\n",
    "                d.iloc[i, 1] = '-'\n",
    "                t.append(d.iloc[i, 0])\n",
    "        elif d.iloc[i, 0].text == d.iloc[k, 2]:\n",
    "            k = i\n",
    "            d.iloc[i, 1] = '-'\n",
    "            t.append(d.iloc[i, 0])\n",
    "    return t"
   ]
  },
  {
   "cell_type": "code",
   "execution_count": 176,
   "metadata": {},
   "outputs": [
    {
     "data": {
      "text/plain": [
       "'Москвичи, зарегистрировавшиеся до 8 сентября на розыгрыш дополнительных призов, смогут претендовать на 15 тысяч баллов в одной из категорий: «Путешествия и культура», «Техника для дома» или «Спорт»'"
      ]
     },
     "execution_count": 176,
     "metadata": {},
     "output_type": "execute_result"
    }
   ],
   "source": [
    "text_i"
   ]
  },
  {
   "cell_type": "code",
   "execution_count": 173,
   "metadata": {},
   "outputs": [
    {
     "data": {
      "text/plain": [
       "['15 тысяч баллов', '450 тысяч']"
      ]
     },
     "execution_count": 173,
     "metadata": {},
     "output_type": "execute_result"
    }
   ],
   "source": [
    "l"
   ]
  },
  {
   "cell_type": "code",
   "execution_count": 170,
   "metadata": {},
   "outputs": [
    {
     "data": {
      "text/plain": [
       "[[тысяч, 15, баллов, на, тысяч, претендовать],\n",
       " [тысяч, уже, 450, человек, приняли]]"
      ]
     },
     "execution_count": 170,
     "metadata": {},
     "output_type": "execute_result"
    }
   ],
   "source": [
    "l3"
   ]
  },
  {
   "cell_type": "code",
   "execution_count": 161,
   "metadata": {},
   "outputs": [
    {
     "name": "stdout",
     "output_type": "stream",
     "text": [
      "0\n",
      "0\n",
      "0\n",
      "0\n",
      "0\n",
      "0\n",
      "0\n",
      "0\n",
      "0\n",
      "0\n",
      "0\n",
      "0\n",
      "0\n",
      "0\n",
      "0\n",
      "0\n",
      "0\n"
     ]
    }
   ],
   "source": [
    "for i in NLP_LIGHTFULL_MODEL(text_i):\n",
    "    print(i.cluster)"
   ]
  },
  {
   "cell_type": "code",
   "execution_count": 39,
   "metadata": {},
   "outputs": [
    {
     "data": {
      "text/html": [
       "<div>\n",
       "<style scoped>\n",
       "    .dataframe tbody tr th:only-of-type {\n",
       "        vertical-align: middle;\n",
       "    }\n",
       "\n",
       "    .dataframe tbody tr th {\n",
       "        vertical-align: top;\n",
       "    }\n",
       "\n",
       "    .dataframe thead th {\n",
       "        text-align: right;\n",
       "    }\n",
       "</style>\n",
       "<table border=\"1\" class=\"dataframe\">\n",
       "  <thead>\n",
       "    <tr style=\"text-align: right;\">\n",
       "      <th></th>\n",
       "      <th>0</th>\n",
       "      <th>1</th>\n",
       "      <th>2</th>\n",
       "    </tr>\n",
       "  </thead>\n",
       "  <tbody>\n",
       "    <tr>\n",
       "      <th>0</th>\n",
       "      <td>Москвичи</td>\n",
       "      <td>nsubj</td>\n",
       "      <td>смогут</td>\n",
       "    </tr>\n",
       "    <tr>\n",
       "      <th>1</th>\n",
       "      <td>,</td>\n",
       "      <td>punct</td>\n",
       "      <td>зарегистрировавшиеся</td>\n",
       "    </tr>\n",
       "    <tr>\n",
       "      <th>2</th>\n",
       "      <td>зарегистрировавшиеся</td>\n",
       "      <td>acl</td>\n",
       "      <td>Москвичи</td>\n",
       "    </tr>\n",
       "    <tr>\n",
       "      <th>3</th>\n",
       "      <td>до</td>\n",
       "      <td>case</td>\n",
       "      <td>8</td>\n",
       "    </tr>\n",
       "    <tr>\n",
       "      <th>4</th>\n",
       "      <td>8</td>\n",
       "      <td>obl</td>\n",
       "      <td>зарегистрировавшиеся</td>\n",
       "    </tr>\n",
       "    <tr>\n",
       "      <th>5</th>\n",
       "      <td>сентября</td>\n",
       "      <td>flat</td>\n",
       "      <td>8</td>\n",
       "    </tr>\n",
       "    <tr>\n",
       "      <th>6</th>\n",
       "      <td>на</td>\n",
       "      <td>case</td>\n",
       "      <td>розыгрыш</td>\n",
       "    </tr>\n",
       "    <tr>\n",
       "      <th>7</th>\n",
       "      <td>розыгрыш</td>\n",
       "      <td>obl</td>\n",
       "      <td>зарегистрировавшиеся</td>\n",
       "    </tr>\n",
       "    <tr>\n",
       "      <th>8</th>\n",
       "      <td>дополнительных</td>\n",
       "      <td>amod</td>\n",
       "      <td>призов</td>\n",
       "    </tr>\n",
       "    <tr>\n",
       "      <th>9</th>\n",
       "      <td>призов</td>\n",
       "      <td>nmod</td>\n",
       "      <td>розыгрыш</td>\n",
       "    </tr>\n",
       "    <tr>\n",
       "      <th>10</th>\n",
       "      <td>,</td>\n",
       "      <td>punct</td>\n",
       "      <td>зарегистрировавшиеся</td>\n",
       "    </tr>\n",
       "    <tr>\n",
       "      <th>11</th>\n",
       "      <td>смогут</td>\n",
       "      <td>ROOT</td>\n",
       "      <td>смогут</td>\n",
       "    </tr>\n",
       "    <tr>\n",
       "      <th>12</th>\n",
       "      <td>претендовать</td>\n",
       "      <td>xcomp</td>\n",
       "      <td>смогут</td>\n",
       "    </tr>\n",
       "    <tr>\n",
       "      <th>13</th>\n",
       "      <td>на</td>\n",
       "      <td>case</td>\n",
       "      <td>баллов</td>\n",
       "    </tr>\n",
       "    <tr>\n",
       "      <th>14</th>\n",
       "      <td>15</td>\n",
       "      <td>nummod</td>\n",
       "      <td>тысяч</td>\n",
       "    </tr>\n",
       "    <tr>\n",
       "      <th>15</th>\n",
       "      <td>тысяч</td>\n",
       "      <td>nummod</td>\n",
       "      <td>баллов</td>\n",
       "    </tr>\n",
       "    <tr>\n",
       "      <th>16</th>\n",
       "      <td>баллов</td>\n",
       "      <td>obj</td>\n",
       "      <td>претендовать</td>\n",
       "    </tr>\n",
       "    <tr>\n",
       "      <th>17</th>\n",
       "      <td>в</td>\n",
       "      <td>case</td>\n",
       "      <td>одной</td>\n",
       "    </tr>\n",
       "    <tr>\n",
       "      <th>18</th>\n",
       "      <td>одной</td>\n",
       "      <td>obl</td>\n",
       "      <td>претендовать</td>\n",
       "    </tr>\n",
       "    <tr>\n",
       "      <th>19</th>\n",
       "      <td>из</td>\n",
       "      <td>case</td>\n",
       "      <td>категорий</td>\n",
       "    </tr>\n",
       "    <tr>\n",
       "      <th>20</th>\n",
       "      <td>категорий</td>\n",
       "      <td>nmod</td>\n",
       "      <td>одной</td>\n",
       "    </tr>\n",
       "    <tr>\n",
       "      <th>21</th>\n",
       "      <td>:</td>\n",
       "      <td>punct</td>\n",
       "      <td>Путешествия</td>\n",
       "    </tr>\n",
       "    <tr>\n",
       "      <th>22</th>\n",
       "      <td>«</td>\n",
       "      <td>punct</td>\n",
       "      <td>Путешествия</td>\n",
       "    </tr>\n",
       "    <tr>\n",
       "      <th>23</th>\n",
       "      <td>Путешествия</td>\n",
       "      <td>parataxis</td>\n",
       "      <td>категорий</td>\n",
       "    </tr>\n",
       "    <tr>\n",
       "      <th>24</th>\n",
       "      <td>и</td>\n",
       "      <td>cc</td>\n",
       "      <td>культура</td>\n",
       "    </tr>\n",
       "    <tr>\n",
       "      <th>25</th>\n",
       "      <td>культура</td>\n",
       "      <td>conj</td>\n",
       "      <td>Путешествия</td>\n",
       "    </tr>\n",
       "    <tr>\n",
       "      <th>26</th>\n",
       "      <td>»</td>\n",
       "      <td>punct</td>\n",
       "      <td>Путешествия</td>\n",
       "    </tr>\n",
       "    <tr>\n",
       "      <th>27</th>\n",
       "      <td>,</td>\n",
       "      <td>punct</td>\n",
       "      <td>Техника</td>\n",
       "    </tr>\n",
       "    <tr>\n",
       "      <th>28</th>\n",
       "      <td>«</td>\n",
       "      <td>punct</td>\n",
       "      <td>Техника</td>\n",
       "    </tr>\n",
       "    <tr>\n",
       "      <th>29</th>\n",
       "      <td>Техника</td>\n",
       "      <td>conj</td>\n",
       "      <td>Путешествия</td>\n",
       "    </tr>\n",
       "    <tr>\n",
       "      <th>30</th>\n",
       "      <td>для</td>\n",
       "      <td>case</td>\n",
       "      <td>дома</td>\n",
       "    </tr>\n",
       "    <tr>\n",
       "      <th>31</th>\n",
       "      <td>дома</td>\n",
       "      <td>nmod</td>\n",
       "      <td>Техника</td>\n",
       "    </tr>\n",
       "    <tr>\n",
       "      <th>32</th>\n",
       "      <td>»</td>\n",
       "      <td>punct</td>\n",
       "      <td>Техника</td>\n",
       "    </tr>\n",
       "    <tr>\n",
       "      <th>33</th>\n",
       "      <td>или</td>\n",
       "      <td>cc</td>\n",
       "      <td>Спорт</td>\n",
       "    </tr>\n",
       "    <tr>\n",
       "      <th>34</th>\n",
       "      <td>«</td>\n",
       "      <td>punct</td>\n",
       "      <td>Спорт</td>\n",
       "    </tr>\n",
       "    <tr>\n",
       "      <th>35</th>\n",
       "      <td>Спорт</td>\n",
       "      <td>conj</td>\n",
       "      <td>Путешествия</td>\n",
       "    </tr>\n",
       "    <tr>\n",
       "      <th>36</th>\n",
       "      <td>»</td>\n",
       "      <td>punct</td>\n",
       "      <td>Спорт</td>\n",
       "    </tr>\n",
       "  </tbody>\n",
       "</table>\n",
       "</div>"
      ],
      "text/plain": [
       "                       0          1                     2\n",
       "0               Москвичи      nsubj                смогут\n",
       "1                      ,      punct  зарегистрировавшиеся\n",
       "2   зарегистрировавшиеся        acl              Москвичи\n",
       "3                     до       case                     8\n",
       "4                      8        obl  зарегистрировавшиеся\n",
       "5               сентября       flat                     8\n",
       "6                     на       case              розыгрыш\n",
       "7               розыгрыш        obl  зарегистрировавшиеся\n",
       "8         дополнительных       amod                призов\n",
       "9                 призов       nmod              розыгрыш\n",
       "10                     ,      punct  зарегистрировавшиеся\n",
       "11                смогут       ROOT                смогут\n",
       "12          претендовать      xcomp                смогут\n",
       "13                    на       case                баллов\n",
       "14                    15     nummod                 тысяч\n",
       "15                 тысяч     nummod                баллов\n",
       "16                баллов        obj          претендовать\n",
       "17                     в       case                 одной\n",
       "18                 одной        obl          претендовать\n",
       "19                    из       case             категорий\n",
       "20             категорий       nmod                 одной\n",
       "21                     :      punct           Путешествия\n",
       "22                     «      punct           Путешествия\n",
       "23           Путешествия  parataxis             категорий\n",
       "24                     и         cc              культура\n",
       "25              культура       conj           Путешествия\n",
       "26                     »      punct           Путешествия\n",
       "27                     ,      punct               Техника\n",
       "28                     «      punct               Техника\n",
       "29               Техника       conj           Путешествия\n",
       "30                   для       case                  дома\n",
       "31                  дома       nmod               Техника\n",
       "32                     »      punct               Техника\n",
       "33                   или         cc                 Спорт\n",
       "34                     «      punct                 Спорт\n",
       "35                 Спорт       conj           Путешествия\n",
       "36                     »      punct                 Спорт"
      ]
     },
     "execution_count": 39,
     "metadata": {},
     "output_type": "execute_result"
    }
   ],
   "source": [
    "d"
   ]
  }
 ],
 "metadata": {
  "kernelspec": {
   "display_name": "venv",
   "language": "python",
   "name": "python3"
  },
  "language_info": {
   "codemirror_mode": {
    "name": "ipython",
    "version": 3
   },
   "file_extension": ".py",
   "mimetype": "text/x-python",
   "name": "python",
   "nbconvert_exporter": "python",
   "pygments_lexer": "ipython3",
   "version": "3.12.3"
  }
 },
 "nbformat": 4,
 "nbformat_minor": 2
}
